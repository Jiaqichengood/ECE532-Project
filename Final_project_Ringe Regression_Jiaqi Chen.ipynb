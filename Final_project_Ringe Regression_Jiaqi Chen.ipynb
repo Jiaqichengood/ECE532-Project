{
 "cells": [
  {
   "cell_type": "code",
   "execution_count": 1,
   "metadata": {},
   "outputs": [],
   "source": [
    "# ----------Jiaqi Chen-------------------\n",
    "#----------Fianl project------------------\n",
    "#----------Ridge regression--------------\n",
    "import numpy as np\n",
    "\n",
    "from struct import unpack\n",
    "\n",
    "def __read_image(path):\n",
    "    with open(path, 'rb') as f:\n",
    "        magic, num, rows, cols = unpack('>4I', f.read(16))\n",
    "        img = np.fromfile(f, dtype=np.uint8).reshape(num, 784)\n",
    "    return img\n",
    "\n",
    "def __read_label(path):\n",
    "    with open(path, 'rb') as f:\n",
    "        magic, num = unpack('>2I', f.read(8))\n",
    "        lab = np.fromfile(f, dtype=np.uint8)\n",
    "    return lab\n",
    "    \n",
    "def __normalize_image(image):\n",
    "    img = image.astype(np.float32) / 255.0\n",
    "    return img\n",
    "\n",
    "def __one_hot_label(label):\n",
    "    lab = np.zeros((label.size, 10))\n",
    "    for i, row in enumerate(lab):\n",
    "        row[label[i]] = 1\n",
    "    return lab\n",
    "\n",
    "def load_mnist(train_image_path, train_label_path, test_image_path, test_label_path, normalize=True, one_hot=True):\n",
    "    '''读入MNIST数据集\n",
    "    Parameters\n",
    "    ----------\n",
    "    normalize : 将图像的像素值正规化为0.0~1.0\n",
    "    one_hot_label : \n",
    "        one_hot为True的情况下，标签作为one-hot数组返回\n",
    "        one-hot数组是指[0,0,1,0,0,0,0,0,0,0]这样的数组\n",
    "    Returns\n",
    "    ----------\n",
    "    (训练图像, 训练标签), (测试图像, 测试标签)\n",
    "    '''\n",
    "    image = {\n",
    "        'train' : __read_image(train_image_path),\n",
    "        'test'  : __read_image(test_image_path)\n",
    "    }\n",
    "\n",
    "    label = {\n",
    "        'train' : __read_label(train_label_path),\n",
    "        'test'  : __read_label(test_label_path)\n",
    "    }\n",
    "    \n",
    "    if normalize:\n",
    "        for key in ('train', 'test'):\n",
    "            image[key] = __normalize_image(image[key])\n",
    "\n",
    "    if one_hot:\n",
    "        for key in ('train', 'test'):\n",
    "            label[key] = __one_hot_label(label[key])\n",
    "\n",
    "   # return (image['train'], label['train']), (image['test'], label['test'])\n",
    "    return image['train'], label['train'], image['test'], label['test']\n"
   ]
  },
  {
   "cell_type": "code",
   "execution_count": 2,
   "metadata": {},
   "outputs": [],
   "source": [
    "train_size = 10000\n",
    "test_size = 1000"
   ]
  },
  {
   "cell_type": "code",
   "execution_count": 3,
   "metadata": {},
   "outputs": [],
   "source": [
    "traindata_all,trainlabel_all,testdata,testlabel=load_mnist('D:/Final project/trainimages.idx3-ubyte','D:/Final project/trainlabels.idx1-ubyte','D:/Final project/t10kimages.idx3-ubyte','D:/Final project/t10klabels.idx1-ubyte')"
   ]
  },
  {
   "cell_type": "code",
   "execution_count": 4,
   "metadata": {},
   "outputs": [],
   "source": [
    "traindata=traindata_all[:train_size,:]"
   ]
  },
  {
   "cell_type": "code",
   "execution_count": 5,
   "metadata": {},
   "outputs": [],
   "source": [
    "trainlabel=trainlabel_all[:train_size,:]"
   ]
  },
  {
   "cell_type": "code",
   "execution_count": 6,
   "metadata": {},
   "outputs": [],
   "source": [
    "col_num = traindata.shape[1]\n",
    "row_num = traindata.shape[0]\n",
    "#w_opt = np.linalg.inv(traindata.transpose()@traindata)@traindata.transpose()@trainlabel\n",
    "#lamb = 1e-0\n",
    "lamb = 1e2"
   ]
  },
  {
   "cell_type": "code",
   "execution_count": 7,
   "metadata": {},
   "outputs": [],
   "source": [
    "# 计算提高版\n",
    "#I = np.eye(row_num)\n",
    "#lam_I = lamb*I\n",
    "#w_opt = traindata.transpose()@np.linalg.inv(traindata@traindata.transpose()+lam_I)@trainlabel\n",
    "#w_opt = np.linalg.inv(traindata.transpose()@traindata+lam_I)@traindata.transpose()@trainlabel\n",
    "#y_hat = np.sign(x_eval@w_opt)"
   ]
  },
  {
   "cell_type": "code",
   "execution_count": 8,
   "metadata": {},
   "outputs": [],
   "source": [
    "# 原公式\n",
    "I = np.eye(col_num)\n",
    "lam_I = lamb*I\n",
    "#w_opt = traindata.transpose()@np.linalg.inv(traindata@traindata.transpose()+lam_I)@trainlabel\n",
    "w_opt = np.linalg.inv(traindata.transpose()@traindata+lam_I)@traindata.transpose()@trainlabel\n",
    "#y_hat = np.sign(x_eval@w_opt)"
   ]
  },
  {
   "cell_type": "code",
   "execution_count": 9,
   "metadata": {},
   "outputs": [],
   "source": [
    "testdata=testdata[:test_size,:]"
   ]
  },
  {
   "cell_type": "code",
   "execution_count": 10,
   "metadata": {},
   "outputs": [],
   "source": [
    "testlabel = testlabel[:test_size,:]"
   ]
  },
  {
   "cell_type": "code",
   "execution_count": 11,
   "metadata": {},
   "outputs": [],
   "source": [
    "#test_hat = np.sign(testdata@w_opt )\n",
    "test_hat = testdata@w_opt "
   ]
  },
  {
   "cell_type": "code",
   "execution_count": 12,
   "metadata": {},
   "outputs": [],
   "source": [
    "#test中正确的数\n",
    "testlabel_index = np.argmax(testlabel, axis=1)"
   ]
  },
  {
   "cell_type": "code",
   "execution_count": 13,
   "metadata": {},
   "outputs": [],
   "source": [
    "#test中预测的数\n",
    "test_hat_index = np.argmax(test_hat, axis=1)"
   ]
  },
  {
   "cell_type": "code",
   "execution_count": 14,
   "metadata": {},
   "outputs": [],
   "source": [
    "test_hat_index = np.array([test_hat_index])"
   ]
  },
  {
   "cell_type": "code",
   "execution_count": 15,
   "metadata": {},
   "outputs": [],
   "source": [
    "testlabel_index = np.array([testlabel_index])"
   ]
  },
  {
   "cell_type": "code",
   "execution_count": 16,
   "metadata": {},
   "outputs": [],
   "source": [
    "testlabel_index = testlabel_index.transpose()"
   ]
  },
  {
   "cell_type": "code",
   "execution_count": 17,
   "metadata": {},
   "outputs": [],
   "source": [
    "test_hat_index = test_hat_index.transpose()"
   ]
  },
  {
   "cell_type": "code",
   "execution_count": 18,
   "metadata": {},
   "outputs": [
    {
     "name": "stdout",
     "output_type": "stream",
     "text": [
      "Errors number: 195\n",
      "Errors rate:  0.195\n"
     ]
    }
   ],
   "source": [
    "error_vec = [0 if i[0]==i[1] else 1 for i in np.hstack((testlabel_index, test_hat_index))]\n",
    "\n",
    "\n",
    "print('Errors number: '+ str(sum(error_vec)))\n",
    "print('Errors rate: ',(sum(error_vec))/test_size)"
   ]
  },
  {
   "cell_type": "code",
   "execution_count": null,
   "metadata": {},
   "outputs": [],
   "source": []
  },
  {
   "cell_type": "code",
   "execution_count": null,
   "metadata": {},
   "outputs": [],
   "source": []
  }
 ],
 "metadata": {
  "kernelspec": {
   "display_name": "Python 3",
   "language": "python",
   "name": "python3"
  },
  "language_info": {
   "codemirror_mode": {
    "name": "ipython",
    "version": 3
   },
   "file_extension": ".py",
   "mimetype": "text/x-python",
   "name": "python",
   "nbconvert_exporter": "python",
   "pygments_lexer": "ipython3",
   "version": "3.8.3"
  }
 },
 "nbformat": 4,
 "nbformat_minor": 4
}
