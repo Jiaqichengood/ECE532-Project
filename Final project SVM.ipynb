{
 "cells": [
  {
   "cell_type": "code",
   "execution_count": 1,
   "metadata": {},
   "outputs": [],
   "source": [
    "from sklearn import svm\n",
    "import numpy as np\n",
    "from time import time\n",
    "from sklearn.metrics import accuracy_score\n",
    "from struct import unpack\n",
    "from sklearn.model_selection import GridSearchCV\n",
    " \n",
    "def readimage(path):\n",
    "    with open(path, 'rb') as f:\n",
    "        magic, num, rows, cols = unpack('>4I', f.read(16))\n",
    "        img = np.fromfile(f, dtype=np.uint8).reshape(num, 784)\n",
    "    return img\n",
    " \n",
    "def readlabel(path):\n",
    "    with open(path, 'rb') as f:\n",
    "        magic, num = unpack('>2I', f.read(8))\n",
    "        lab = np.fromfile(f, dtype=np.uint8)\n",
    "    return lab\n",
    " \n",
    "\n",
    "    #train_data  = readimage(\"train-images.idx3-ubyte\")\n",
    "    #train_label = readlabel(\"train-labels.idx1-ubyte\")\n",
    " \n"
   ]
  },
  {
   "cell_type": "code",
   "execution_count": 2,
   "metadata": {},
   "outputs": [
    {
     "name": "stdout",
     "output_type": "stream",
     "text": [
      "Train...\n",
      "Train：0min3.973sec\n",
      "accuracy:  0.982\n",
      "Correct number of each label： [97, 114, 96, 91, 105, 90, 93, 117, 85, 94]\n",
      "Total test number of each label： [97, 116, 99, 93, 105, 92, 94, 117, 87, 100]\n"
     ]
    }
   ],
   "source": [
    "    train_data  = readimage(\"train-images.idx3-ubyte\")\n",
    "    train_label = readlabel(\"train-labels.idx1-ubyte\")\n",
    "    train_data  = train_data[:1000,:]\n",
    "    #print(np.shape(train_data))\n",
    "    train_label = train_label[:1000]\n",
    "    test_data   = readimage(\"t10k-images.idx3-ubyte\")\n",
    "    test_label  = readlabel(\"t10k-labels.idx1-ubyte\")\n",
    "    #print(np.shape(test_data))\n",
    "    test_data  = train_data[:1000,:]\n",
    "    #print(np.shape(train_data))\n",
    "    test_label = train_label[:1000]\n",
    "    svc=svm.SVC()\n",
    "    parameters = {'kernel':['rbf'], 'C':[1]}\n",
    "    print(\"Train...\")\n",
    "    clf=GridSearchCV(svc,parameters,n_jobs=-1)\n",
    "    start = time()\n",
    "    clf.fit(train_data, train_label)\n",
    "    end = time()\n",
    "    t = end - start\n",
    "    print('Train：%dmin%.3fsec' % (t//60, t - 60 * (t//60)))\n",
    "    prediction = clf.predict(test_data)\n",
    "    print(\"accuracy: \", accuracy_score(prediction, test_label))\n",
    "    accurate=[0]*10\n",
    "    sumall=[0]*10\n",
    "    #rint(np.shape(accurate))\n",
    "    i=0\n",
    "    while i<len(test_label):\n",
    "        sumall[test_label[i]]+=1\n",
    "        if prediction[i]==test_label[i]:\n",
    "            accurate[test_label[i]]+=1\n",
    "        i+=1\n",
    "        \n",
    "    print(\"Correct number of each label：\",accurate)\n",
    "    print(\"Total test number of each label：\",sumall)\n",
    " "
   ]
  },
  {
   "cell_type": "code",
   "execution_count": 3,
   "metadata": {},
   "outputs": [],
   "source": [
    "#len(test_label)"
   ]
  },
  {
   "cell_type": "code",
   "execution_count": 4,
   "metadata": {},
   "outputs": [],
   "source": [
    "#test_label"
   ]
  },
  {
   "cell_type": "code",
   "execution_count": 5,
   "metadata": {},
   "outputs": [],
   "source": [
    "#np.shape(test_label)"
   ]
  },
  {
   "cell_type": "code",
   "execution_count": 6,
   "metadata": {},
   "outputs": [],
   "source": [
    "#accurate"
   ]
  },
  {
   "cell_type": "code",
   "execution_count": null,
   "metadata": {},
   "outputs": [],
   "source": []
  },
  {
   "cell_type": "code",
   "execution_count": null,
   "metadata": {},
   "outputs": [],
   "source": []
  }
 ],
 "metadata": {
  "kernelspec": {
   "display_name": "Python 3",
   "language": "python",
   "name": "python3"
  },
  "language_info": {
   "codemirror_mode": {
    "name": "ipython",
    "version": 3
   },
   "file_extension": ".py",
   "mimetype": "text/x-python",
   "name": "python",
   "nbconvert_exporter": "python",
   "pygments_lexer": "ipython3",
   "version": "3.8.3"
  }
 },
 "nbformat": 4,
 "nbformat_minor": 4
}
